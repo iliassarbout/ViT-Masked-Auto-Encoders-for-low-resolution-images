{
 "cells": [
  {
   "cell_type": "markdown",
   "metadata": {},
   "source": [
    "### This notebook provides code for embeddings visualization with tensorboard. Embeddings are computed from a Vision Transformers Masked Auto Encoder neural network, that was trained over Imagenet with image size 64 x 64. Embeddings can be visualized through PCA/T-SNE/UMAP projection from tensorboard framework, and we also provide code to visualize image content and labels with tensorboard. \n",
    "\n",
    "In this notebook we compute embeddings of weather image recognition dataset available <a href=\"https://www.kaggle.com/datasets/fceb22ab5e1d5288200c0f3016ccd626276983ca1fe8705ae2c32f7064d719de\">here<a> and holding CC0 licence.\n",
    "\n",
    "\n"
   ]
  },
  {
   "cell_type": "markdown",
   "metadata": {},
   "source": [
    "# Imports "
   ]
  },
  {
   "cell_type": "code",
   "execution_count": 1,
   "metadata": {},
   "outputs": [],
   "source": [
    "from utils.projector_utils import DATA, images_to_sprite,extractor,path_labels_extractor\n",
    "from utils.load_models import load_mae\n",
    "from utils.shape_filtering import shape_filter\n",
    "import os \n",
    "from tqdm import tqdm\n",
    "import random\n",
    "import cv2\n",
    "import csv\n",
    "inet_mean = [0.485, 0.456, 0.406]\n",
    "inet_std = [0.229, 0.224, 0.225]\n",
    "import numpy as np"
   ]
  },
  {
   "cell_type": "markdown",
   "metadata": {},
   "source": [
    "# Creating logs folders for tensorboard logs and data\n"
   ]
  },
  {
   "cell_type": "code",
   "execution_count": 2,
   "metadata": {},
   "outputs": [],
   "source": [
    "\n",
    "current = os.getcwd()\n",
    "DATA_PATH = current + '\\\\dataset' #folder to store images\n",
    "LOG_DIR = current + '\\\\logs'\n",
    "\n",
    "if not os.path.exists(LOG_DIR):\n",
    "    os.mkdir(LOG_DIR)\n",
    "\n",
    "if not os.path.exists(DATA_PATH): #extract images if needed\n",
    "    from zipfile import ZipFile\n",
    "    with ZipFile(\"archive.zip\", 'r') as zObject: #the weather image recognition dataset provide this \"archive.zip\" file when it's downloaded from kaggle.\n",
    "        zObject.extractall()"
   ]
  },
  {
   "cell_type": "markdown",
   "metadata": {},
   "source": [
    "### Check that cuda is available to make things faster and load model"
   ]
  },
  {
   "cell_type": "code",
   "execution_count": 3,
   "metadata": {},
   "outputs": [
    {
     "name": "stdout",
     "output_type": "stream",
     "text": [
      "cuda\n",
      "Model loaded.\n"
     ]
    }
   ],
   "source": [
    "import torch\n",
    "device = 'cuda' if torch.cuda.is_available() else('cpu')\n",
    "print(device)\n",
    "#Loading VitMAE model pretrained on imagenet 64*64\n",
    "model = load_mae().to(device)"
   ]
  },
  {
   "cell_type": "markdown",
   "metadata": {},
   "source": [
    "# Load data"
   ]
  },
  {
   "cell_type": "code",
   "execution_count": 4,
   "metadata": {
    "colab": {
     "base_uri": "https://localhost:8080/"
    },
    "id": "q5Dn3QlJFPhS",
    "outputId": "420565b9-e23d-4a14-f9af-75feca9e8a10"
   },
   "outputs": [
    {
     "name": "stderr",
     "output_type": "stream",
     "text": [
      "100%|██████████| 11/11 [00:27<00:00,  2.50s/it]\n"
     ]
    }
   ],
   "source": [
    "\n",
    "#Loading list of image files\n",
    "imgs_list,imgs_labels,_,n_bads = path_labels_extractor(DATA_PATH)\n"
   ]
  },
  {
   "cell_type": "code",
   "execution_count": 5,
   "metadata": {},
   "outputs": [],
   "source": [
    "imgs_list = (np.array((imgs_list,imgs_labels)).T).tolist() #we need list of typle for this script"
   ]
  },
  {
   "cell_type": "code",
   "execution_count": 6,
   "metadata": {},
   "outputs": [],
   "source": [
    "#Tensorboard won't be able to display more than 1500 images, so it is recommended to sample some of them for visualization. Here we sample among the 5 first classes.\n",
    "imgs_list = random.sample(imgs_list[:2662],1500)"
   ]
  },
  {
   "cell_type": "code",
   "execution_count": 7,
   "metadata": {},
   "outputs": [
    {
     "name": "stderr",
     "output_type": "stream",
     "text": [
      "100%|██████████| 1500/1500 [00:08<00:00, 187.05it/s]"
     ]
    },
    {
     "name": "stdout",
     "output_type": "stream",
     "text": [
      "Number of bad images :  0  /  1500\n"
     ]
    },
    {
     "name": "stderr",
     "output_type": "stream",
     "text": [
      "\n"
     ]
    }
   ],
   "source": [
    "imgs_list = shape_filter(imgs_list) #filtering out image with wrong number of channels\n",
    "weather = DATA(imgs_list, transform = None, mean = inet_mean,std = inet_std,img_size = 64)\n",
    "e = extractor(model,weather,device) #extractor is used to extract images, embeddings or label"
   ]
  },
  {
   "cell_type": "markdown",
   "metadata": {},
   "source": [
    "# Generate embeddings and sprites, might take some time depending on your GPU"
   ]
  },
  {
   "cell_type": "code",
   "execution_count": 8,
   "metadata": {
    "colab": {
     "base_uri": "https://localhost:8080/"
    },
    "id": "wuAs0RCeOjfC",
    "outputId": "1a5e49b1-b960-4594-8374-81a4ea0ff9ef"
   },
   "outputs": [
    {
     "name": "stderr",
     "output_type": "stream",
     "text": [
      "100%|██████████| 1500/1500 [00:33<00:00, 44.86it/s]\n"
     ]
    }
   ],
   "source": [
    "images_pil = []\n",
    "images_embeddings = []\n",
    "labels = []\n",
    "for x in tqdm(range(weather.__len__())): \n",
    "    img_pil = e.get_img(x)\n",
    "    img_embedding = e.get_embed(x)\n",
    "    images_embeddings.append(img_embedding.cpu().detach().numpy())\n",
    "    images_pil.append(np.array(img_pil))\n",
    "    # Assuming your output data is directly the label\n",
    "    label = e.get_label(x)\n",
    "    labels.append(label)"
   ]
  },
  {
   "cell_type": "code",
   "execution_count": 9,
   "metadata": {
    "colab": {
     "base_uri": "https://localhost:8080/"
    },
    "id": "vWBqrEzfTOzr",
    "outputId": "146a0deb-1504-45c4-e0fb-d8218fb76f54"
   },
   "outputs": [
    {
     "data": {
      "text/plain": [
       "39"
      ]
     },
     "execution_count": 9,
     "metadata": {},
     "output_type": "execute_result"
    }
   ],
   "source": [
    "#Saving files for tensorboard\n",
    "sprite = images_to_sprite(np.array(images_pil))\n",
    "cv2.imwrite(f'{LOG_DIR}\\\\sprite.jpg', sprite)\n",
    "\n",
    "with open(f'{LOG_DIR}\\\\feature_vecs.tsv', 'w') as fw:\n",
    "    csv_writer = csv.writer(fw, delimiter='\\t')\n",
    "    csv_writer.writerows(images_embeddings)\n",
    "    \n",
    "with open(f'{LOG_DIR}\\\\metadata.tsv', 'w') as file: \n",
    "    for label in labels:\n",
    "        #file.write(f\"{classes[str(label)]}\\n\")\n",
    "        file.write(f\"{label}\\n\")    \n",
    "\n",
    "#to get number of images per line in the sprite\n",
    "int(np.ceil(np.sqrt(np.array(images_pil).shape[0]))) "
   ]
  },
  {
   "cell_type": "markdown",
   "metadata": {},
   "source": [
    "# Build proper config file for tensorboard and then visualize the embeddings\n"
   ]
  },
  {
   "cell_type": "code",
   "execution_count": 10,
   "metadata": {
    "id": "lFmjcu8UATke"
   },
   "outputs": [],
   "source": [
    "\"\"\"\n",
    "This is what the config file will look like.\n",
    "\n",
    "embeddings {\n",
    "  metadata_path: \"metadata.tsv\"\n",
    "  tensor_path: \"feature_vecs.tsv\"\n",
    "  sprite {\n",
    "    image_path: \"sprite.jpg\"\n",
    "    single_image_dim: 64\n",
    "    single_image_dim: 64\n",
    "  }\n",
    "}\n",
    "\"\"\"\n",
    "\n",
    "text_file = open(LOG_DIR+'\\\\projector_config.pbtxt', \"w\")\n",
    "text_file.write('embeddings {\\n  metadata_path: \"metadata.tsv\"\\n  tensor_path: \"feature_vecs.tsv\"\\n  sprite {\\n    image_path: \"sprite.jpg\"\\n    single_image_dim: 64\\n    single_image_dim: 64\\n  }\\n}')\n",
    "text_file.close()"
   ]
  },
  {
   "cell_type": "code",
   "execution_count": 11,
   "metadata": {
    "colab": {
     "base_uri": "https://localhost:8080/"
    },
    "id": "6S1SC1bWgZEo",
    "outputId": "e890a353-3b13-4b71-fa29-55d325686df2"
   },
   "outputs": [],
   "source": [
    "try:\n",
    "  # %tensorflow_version only exists in Colab.\n",
    "  %tensorflow_version 2.x\n",
    "except Exception:\n",
    "    pass\n",
    "\n",
    "%load_ext tensorboard"
   ]
  },
  {
   "cell_type": "code",
   "execution_count": 15,
   "metadata": {
    "id": "9UXcFWpInrLa"
   },
   "outputs": [],
   "source": [
    "#%reload_ext tensorboard #In case you made some experiments and whant to display another tensorboard."
   ]
  },
  {
   "cell_type": "code",
   "execution_count": null,
   "metadata": {},
   "outputs": [],
   "source": [
    "%tensorboard --logdir ./logs #Go to projector"
   ]
  },
  {
   "cell_type": "code",
   "execution_count": 17,
   "metadata": {},
   "outputs": [],
   "source": [
    "#On Windows, you might not be able to kill tensorboard process. In this case you should clear its data by removing this fodler : C:\\Users\\USER\\AppData\\Local\\Temp\\.tensorboard-info"
   ]
  }
 ],
 "metadata": {
  "accelerator": "GPU",
  "colab": {
   "collapsed_sections": [],
   "machine_shape": "hm",
   "provenance": []
  },
  "kernelspec": {
   "display_name": "Python 3 (ipykernel)",
   "language": "python",
   "name": "python3"
  },
  "language_info": {
   "codemirror_mode": {
    "name": "ipython",
    "version": 3
   },
   "file_extension": ".py",
   "mimetype": "text/x-python",
   "name": "python",
   "nbconvert_exporter": "python",
   "pygments_lexer": "ipython3",
   "version": "3.10.6"
  }
 },
 "nbformat": 4,
 "nbformat_minor": 4
}
